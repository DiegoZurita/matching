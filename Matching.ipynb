{
 "cells": [
  {
   "cell_type": "code",
   "execution_count": 394,
   "metadata": {
    "collapsed": false
   },
   "outputs": [],
   "source": [
    "from ortools.linear_solver import pywraplp"
   ]
  },
  {
   "cell_type": "code",
   "execution_count": 395,
   "metadata": {
    "collapsed": false
   },
   "outputs": [],
   "source": [
    "def calc_min_path (graph):\n",
    "    for i in range(len(graph)):\n",
    "        for j in range(len(graph)):\n",
    "            for k in range(len(graph)):\n",
    "                if (graph[i][j] > graph[i][k] + graph[k][j]):\n",
    "                    graph[i][j] = graph[i][k] + graph[k][j]\n",
    "    return graph"
   ]
  },
  {
   "cell_type": "code",
   "execution_count": 396,
   "metadata": {
    "collapsed": true
   },
   "outputs": [],
   "source": [
    "def transform_graph_in_bipartite(graph, infinity):\n",
    "    #Transform the graph into bipartite graph\n",
    "    graph_biapartite = []\n",
    "\n",
    "    #Init graph_biapartite with infinity\n",
    "    graph_biapartite_lengh = 2 * len(graph)\n",
    "\n",
    "    for l in range(graph_biapartite_lengh):\n",
    "        new_list = []\n",
    "        for m in range(graph_biapartite_lengh):\n",
    "            new_list.append(infinity)\n",
    "        graph_biapartite.append(new_list)\n",
    "\n",
    "    \n",
    "    #Populate the new graph   \n",
    "    for i in range(len(graph)):\n",
    "        for j in range(len(graph[i])):\n",
    "            graph_biapartite[i][j + len(graph)] = graph[i][j]\n",
    "            graph_biapartite[i + len(graph)][j] = graph[i][j]\n",
    "\n",
    "    return graph_biapartite"
   ]
  },
  {
   "cell_type": "code",
   "execution_count": 397,
   "metadata": {
    "collapsed": true
   },
   "outputs": [],
   "source": [
    "def add_constraints(graph, optimization_vars, optimization_constraints, max_value, solver, infinity):\n",
    "    \n",
    "    optimization_constraints = [0] * len(graph)\n",
    "    \n",
    "    for i in range(len(graph)):\n",
    "        optimization_constraints[i] = solver.Constraint(0, 1)\n",
    "    \n",
    "    #print \"init constraint: must be between 0 and 1\"\n",
    "    for i in range(len(optimization_vars)):\n",
    "        for j in range(i , len(optimization_vars) + 1):\n",
    "            if (graph[i][j] != infinity):\n",
    "                #print str(graph[i][j]) + \"*(\" + str(i) + \"-\" + str(j) + \")\"\n",
    "                new_index_j = j - i - 1\n",
    "                #print \"i: \" + str(i)\n",
    "                #print \"j: \" + str(new_index_j + i + 1)\n",
    "                #print optimization_vars[i][new_index_j]\n",
    "                \n",
    "                optimization_constraints[new_index_j + i + 1].SetCoefficient(optimization_vars[i][new_index_j], 1)\n",
    "                    \n",
    "                optimization_constraints[i].SetCoefficient(optimization_vars[i][new_index_j], 1)\n",
    "        #print \"end constraint\"\n",
    "    \n",
    "    return optimization_constraints\n"
   ]
  },
  {
   "cell_type": "code",
   "execution_count": 398,
   "metadata": {
    "collapsed": true
   },
   "outputs": [],
   "source": [
    "def main():\n",
    "    solver = pywraplp.Solver('SolveMatching', pywraplp.Solver.CBC_MIXED_INTEGER_PROGRAMMING)\n",
    "\n",
    "    infinity = solver.infinity()\n",
    "\n",
    "    #Sample graph\n",
    "    v = [\n",
    "        [infinity, 1      , infinity , 1       , infinity], \n",
    "        [1       , infinity, 1       , 1       , 1], \n",
    "        [infinity, 1       , infinity, infinity, 1],\n",
    "        [1       , 1       , infinity, infinity, 1],\n",
    "        [infinity, 1       , 1       , 1       , infinity]\n",
    "    ]\n",
    "    \n",
    "    #v = [\n",
    "    #    [infinity, .2      , infinity, .75     , infinity], \n",
    "    #    [.25     , infinity, .1      , .3      , infinity], \n",
    "    #    [infinity, .1      , infinity, infinity, .1],\n",
    "    #    [.25     , .1      , infinity, infinity, .1],\n",
    "    #    [infinity, .1      , .1      , .1       , infinity]\n",
    "    #]\n",
    "\n",
    "\n",
    "    optimization_vars = []\n",
    "    optimization_constraints = []\n",
    "    \n",
    "    #Create vars\n",
    "    for i in range(len(v) - 1):\n",
    "        temp_list = []\n",
    "        \n",
    "        for j in range(i + 1, len(v)):\n",
    "            new_var = solver.NumVar(0.0, 1.0, str(i) + \"-\" + str(j))\n",
    "            temp_list.append(new_var)   \n",
    "        \n",
    "        optimization_vars.append(temp_list)\n",
    "        \n",
    "        \n",
    "    #Set objetive function\n",
    "    objective = solver.Objective()\n",
    "    for i in range(len(optimization_vars)):\n",
    "        for j in range(i + 1, len(optimization_vars) + 1):\n",
    "            if (v[i][j] != infinity):\n",
    "                objective.SetCoefficient(optimization_vars[i][j - i - 1], v[i][j]) \n",
    "\n",
    "    objective.SetMaximization()\n",
    "\n",
    "    #Add constraints\n",
    "    optimization_constraints = add_constraints(v, optimization_vars, optimization_constraints, 1, solver, infinity)\n",
    "    \n",
    "    #Solver\n",
    "    print \"Result\"\n",
    "    status = solver.Solve()\n",
    "    if status == solver.OPTIMAL:\n",
    "        for m in range(len(optimization_vars)):\n",
    "            for n in range(len(optimization_vars[m])):\n",
    "                print str(optimization_vars[m][n]) + \" - \" +  str(optimization_vars[m][n].solution_value())\n",
    "\n",
    "    else:  # No optimal solution was found.\n",
    "        if status == solver.FEASIBLE:\n",
    "            print 'Uma solucao possivel foi encontrada.'\n",
    "        else:\n",
    "            print 'Nao foi possivel encontrar uma solucao.'"
   ]
  },
  {
   "cell_type": "code",
   "execution_count": 399,
   "metadata": {
    "collapsed": false,
    "scrolled": true
   },
   "outputs": [
    {
     "name": "stdout",
     "output_type": "stream",
     "text": [
      "Result\n",
      "0-1 - 0.0\n",
      "0-2 - 0.0\n",
      "0-3 - 1.0\n",
      "0-4 - 0.0\n",
      "1-2 - 0.5\n",
      "1-3 - 0.0\n",
      "1-4 - 0.5\n",
      "2-3 - 0.0\n",
      "2-4 - 0.5\n",
      "3-4 - 0.0\n"
     ]
    }
   ],
   "source": [
    "main()"
   ]
  }
 ],
 "metadata": {
  "anaconda-cloud": {},
  "kernelspec": {
   "display_name": "Python [default]",
   "language": "python",
   "name": "python2"
  },
  "language_info": {
   "codemirror_mode": {
    "name": "ipython",
    "version": 2
   },
   "file_extension": ".py",
   "mimetype": "text/x-python",
   "name": "python",
   "nbconvert_exporter": "python",
   "pygments_lexer": "ipython2",
   "version": "2.7.12"
  }
 },
 "nbformat": 4,
 "nbformat_minor": 1
}
