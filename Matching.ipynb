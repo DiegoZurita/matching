{
 "cells": [
  {
   "cell_type": "code",
   "execution_count": 25,
   "metadata": {
    "collapsed": true
   },
   "outputs": [],
   "source": [
    "infinity = float('inf')\n",
    "\n",
    "v = [\n",
    "    [infinity, 2, infinity, 5, infinity], \n",
    "    [2, infinity, 14, 5, 4], \n",
    "    [infinity, 14, infinity, infinity, 34],\n",
    "    [5, 5, infinity, infinity, 58],\n",
    "    [infinity, 4, 34, 58, infinity]\n",
    "]\n",
    "\n",
    "v_biapartitie = []"
   ]
  },
  {
   "cell_type": "code",
   "execution_count": 26,
   "metadata": {
    "collapsed": false
   },
   "outputs": [],
   "source": [
    "#Transoform the graph v into bipartite graph\n",
    "\n",
    "#Init v_biapartitie with infinity\n",
    "\n",
    "v_biapartitie_lengh = 2 * len(v)\n",
    "\n",
    "for l in range(v_biapartitie_lengh):\n",
    "    new_list = []\n",
    "    for m in range(v_biapartitie_lengh):\n",
    "        new_list.append(infinity)\n",
    "    v_biapartitie.append(new_list)\n",
    "    \n",
    "#Populate the new graph   \n",
    "for i in range(len(v)):\n",
    "    for j in range(len(v[i])):\n",
    "        v_biapartitie[i][j + len(v)] = v[i][j]\n",
    "        v_biapartitie[i + len(v)][j] = v[i][j]\n",
    "\n",
    "#Print the new graph        \n",
    "#for i in range(v_biapartitie_lengh):\n",
    "#    for j in range(v_biapartitie_lengh):\n",
    "#        print str(i) + \"->\" + str(j) + \" = \" + str(v_biapartitie[i][j])"
   ]
  },
  {
   "cell_type": "code",
   "execution_count": 27,
   "metadata": {
    "collapsed": false
   },
   "outputs": [],
   "source": [
    "#Implement the Floyd-Warshall Algorithm in the new bipartite graph\n",
    "\n",
    "for i in range(v_biapartitie_lengh):\n",
    "    for j in range(v_biapartitie_lengh):\n",
    "        for k in range(v_biapartitie_lengh):\n",
    "            if (v_biapartitie[i][j] > v_biapartitie[i][k] + v_biapartitie[k][j]):\n",
    "                v_biapartitie[i][j] = v_biapartitie[i][k] + v_biapartitie[k][j]\n",
    "\n",
    "#Print result of algorithm\n",
    "#for i in range(v_biapartitie_lengh):\n",
    "#    for j in range(v_biapartitie_lengh):\n",
    "#        print str(i) + \"->\" + str(j) + \" = \" + str(v_biapartitie[i][j])"
   ]
  },
  {
   "cell_type": "code",
   "execution_count": 28,
   "metadata": {
    "collapsed": false
   },
   "outputs": [
    {
     "name": "stdout",
     "output_type": "stream",
     "text": [
      "0 => 5 = 12\n",
      "1 => 6 = 12\n",
      "2 => 7 = 40\n",
      "3 => 8 = 12\n",
      "4 => 9 = 20\n"
     ]
    }
   ],
   "source": [
    "#Verify if has any negative cycle\n",
    "for i in range(v_biapartitie_lengh):\n",
    "    if (v_biapartitie[i][i] < 0):\n",
    "        print \"Has negative cycle\"\n",
    "        \n",
    "\n",
    "#find odd cycles from v in v_biapartitie\n",
    "for i in range(len(v)):\n",
    "        if (v_biapartitie[i][i + len(v)] > 1):\n",
    "            print str(i) + \" => \" + str(i + len(v)) + \" = \" + str(v_biapartitie[i][i + len(v)])"
   ]
  }
 ],
 "metadata": {
  "anaconda-cloud": {},
  "kernelspec": {
   "display_name": "Python [default]",
   "language": "python",
   "name": "python2"
  },
  "language_info": {
   "codemirror_mode": {
    "name": "ipython",
    "version": 2
   },
   "file_extension": ".py",
   "mimetype": "text/x-python",
   "name": "python",
   "nbconvert_exporter": "python",
   "pygments_lexer": "ipython2",
   "version": "2.7.12"
  }
 },
 "nbformat": 4,
 "nbformat_minor": 1
}
